{
 "cells": [
  {
   "cell_type": "code",
   "execution_count": 1,
   "metadata": {},
   "outputs": [],
   "source": [
    "import feedparser\n",
    "from transformers import pipeline, DistilBertTokenizer, DistilBertForSequenceClassification\n",
    "\n"
   ]
  },
  {
   "cell_type": "code",
   "execution_count": 2,
   "metadata": {},
   "outputs": [],
   "source": [
    "FEEDS = [\"http://feeds.bbci.co.uk/news/rss.xml\"]"
   ]
  },
  {
   "cell_type": "code",
   "execution_count": 3,
   "metadata": {},
   "outputs": [],
   "source": [
    "NewsFeed = feedparser.parse(\"http://feeds.bbci.co.uk/news/rss.xml\")"
   ]
  },
  {
   "cell_type": "code",
   "execution_count": 4,
   "metadata": {},
   "outputs": [
    {
     "name": "stderr",
     "output_type": "stream",
     "text": [
      "WARNING[XFORMERS]: xFormers can't load C++/CUDA extensions. xFormers was built for:\n",
      "    PyTorch 2.0.1+cu118 with CUDA 1108 (you have 2.0.1+cpu)\n",
      "    Python  3.9.13 (you have 3.9.7)\n",
      "  Please reinstall xformers (see https://github.com/facebookresearch/xformers#installing-xformers)\n",
      "  Memory-efficient attention, SwiGLU, sparse and more won't be available.\n",
      "  Set XFORMERS_MORE_DETAILS=1 for more details\n"
     ]
    }
   ],
   "source": [
    "sentiment_pipeline = pipeline(model=\"distilbert-base-uncased-finetuned-sst-2-english\")\n",
    "sents = [{'title': ent['title'], 'score': sentiment_pipeline(ent['title'])[0]['score'],'label': sentiment_pipeline(ent['title'])[0]['label']} for ent in NewsFeed.entries]\n",
    "positive_news = list(filter(lambda sent: sent['label']!='NEGATIVE', sents))\n"
   ]
  },
  {
   "cell_type": "code",
   "execution_count": 5,
   "metadata": {},
   "outputs": [
    {
     "name": "stdout",
     "output_type": "stream",
     "text": [
      "[{'title': 'Akon: Success allows me to explore my African roots', 'score': 0.9998757839202881, 'label': 'POSITIVE'}, {'title': 'Poignant photos show lives of women who survived war', 'score': 0.9996352195739746, 'label': 'POSITIVE'}, {'title': '23-year-old rescue dog celebrates year in new home', 'score': 0.9996098875999451, 'label': 'POSITIVE'}, {'title': 'Nerves and patriotism in Moscow after 18 months of war', 'score': 0.998701810836792, 'label': 'POSITIVE'}, {'title': 'UK economy made stronger recovery during Covid', 'score': 0.9986080527305603, 'label': 'POSITIVE'}, {'title': 'How to get a job: Six expert tips for finding work', 'score': 0.9928877949714661, 'label': 'POSITIVE'}, {'title': 'Shock after popular bear shot dead in Italian town', 'score': 0.9787838459014893, 'label': 'POSITIVE'}, {'title': 'Brennan Johnson: Tottenham agree £45m-plus deadline day deal with Nottingham Forest', 'score': 0.9662947058677673, 'label': 'POSITIVE'}, {'title': 'TikTok influencer Mahek Bukhari murder case: The key CCTV evidence', 'score': 0.9600417613983154, 'label': 'POSITIVE'}, {'title': 'Typhoon Saola and Storm Haikui head towards China seen from satellite', 'score': 0.9388339519500732, 'label': 'POSITIVE'}, {'title': 'Rent increases: What you can do about a rise from your landlord', 'score': 0.8347169160842896, 'label': 'POSITIVE'}, {'title': 'Paris says au revoir to rental e-scooters', 'score': 0.8032786250114441, 'label': 'POSITIVE'}, {'title': 'Renting: Three ways to win the race to securing a property', 'score': 0.6273829340934753, 'label': 'POSITIVE'}, {'title': \"Octopus to buy Shell's household energy firm\", 'score': 0.5357561111450195, 'label': 'POSITIVE'}]\n"
     ]
    }
   ],
   "source": [
    "print(sorted(positive_news, key= lambda news: news['score'], reverse=True))"
   ]
  }
 ],
 "metadata": {
  "kernelspec": {
   "display_name": "Good News",
   "language": "python",
   "name": "python3"
  },
  "language_info": {
   "codemirror_mode": {
    "name": "ipython",
    "version": 3
   },
   "file_extension": ".py",
   "mimetype": "text/x-python",
   "name": "python",
   "nbconvert_exporter": "python",
   "pygments_lexer": "ipython3",
   "version": "3.9.7"
  },
  "orig_nbformat": 4,
  "vscode": {
   "interpreter": {
    "hash": "797ad547c64f5a90a534cfd90db97a4582d193e2c67c9526d148b2970fbf724c"
   }
  }
 },
 "nbformat": 4,
 "nbformat_minor": 2
}
