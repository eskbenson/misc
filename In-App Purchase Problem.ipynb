{
 "cells": [
  {
   "cell_type": "markdown",
   "metadata": {},
   "source": [
    "# The Problem\n",
    "A streaming app offers ways to buy their in-app currency in several different quantities that do not necessarily scale linearly i.e. spending twice as much money may not give twice as much points.\n",
    "\n",
    "We will use some simple linear integer optimisation to determine the optimal way to by points given a certain upper limit on spending."
   ]
  },
  {
   "cell_type": "code",
   "execution_count": 1,
   "metadata": {},
   "outputs": [],
   "source": [
    "import numpy as np\n",
    "from scipy.optimize import milp\n",
    "from scipy.optimize import LinearConstraint"
   ]
  },
  {
   "cell_type": "markdown",
   "metadata": {},
   "source": [
    "Let's set our limit"
   ]
  },
  {
   "cell_type": "code",
   "execution_count": 2,
   "metadata": {},
   "outputs": [],
   "source": [
    "limit = 10000"
   ]
  },
  {
   "cell_type": "markdown",
   "metadata": {},
   "source": [
    "Now let's input lists of the points to cost for various buying platforms"
   ]
  },
  {
   "cell_type": "code",
   "execution_count": 3,
   "metadata": {},
   "outputs": [],
   "source": [
    "points_and = [89, 275, 453, 996, 2914, 5203]\n",
    "cost_and = [120, 370, 610, 1340, 3920, 7000]\n",
    "\n",
    "points_apple = [119, 237, 481, 741, 1481, 3703, 7406]\n",
    "cost_apple = [160, 320, 650, 1000, 2000, 5000, 10000]\n",
    "\n",
    "points_net = [600, 1200, 2400, 4800, 9600, 28800]\n",
    "cost_net = [650, 1300, 2600, 5200, 10400, 31200]"
   ]
  },
  {
   "cell_type": "markdown",
   "metadata": {},
   "source": [
    "Now we will set which we are interested in optimising"
   ]
  },
  {
   "cell_type": "code",
   "execution_count": 4,
   "metadata": {},
   "outputs": [],
   "source": [
    "points = points_net\n",
    "cost = cost_net"
   ]
  },
  {
   "cell_type": "code",
   "execution_count": 5,
   "metadata": {},
   "outputs": [],
   "source": [
    "# Set the optimisation function\n",
    "c = -np.array(points)"
   ]
  },
  {
   "cell_type": "code",
   "execution_count": 6,
   "metadata": {},
   "outputs": [],
   "source": [
    "A = np.array(cost)\n",
    "b_u = np.array([limit])\n",
    "b_l = np.full_like(b_u, -np.inf)"
   ]
  },
  {
   "cell_type": "code",
   "execution_count": 7,
   "metadata": {},
   "outputs": [],
   "source": [
    "\n",
    "constraints = LinearConstraint(A, b_l, b_u)"
   ]
  },
  {
   "cell_type": "code",
   "execution_count": 8,
   "metadata": {},
   "outputs": [],
   "source": [
    "# We set the integrality to one as this is the option for integers. This is done to the same shape of the points\n",
    "integrality = np.ones_like(c)"
   ]
  },
  {
   "cell_type": "code",
   "execution_count": 9,
   "metadata": {},
   "outputs": [
    {
     "name": "stdout",
     "output_type": "stream",
     "text": [
      "[15, 0, 0, 0, 0, 0]\n",
      "for 9750.0 yen, you get 9000.0 points\n"
     ]
    }
   ],
   "source": [
    "# get the results\n",
    "res = milp(c=c, constraints=constraints, integrality=integrality)\n",
    "res.x\n",
    "\n",
    "print([round(x) for x in res.x])\n",
    "print(f\"for {sum(list(map(lambda x, y: x*y, res.x, cost)))} yen, you get {-res.fun} points\")\n",
    "\n"
   ]
  }
 ],
 "metadata": {
  "kernelspec": {
   "display_name": "base",
   "language": "python",
   "name": "python3"
  },
  "language_info": {
   "codemirror_mode": {
    "name": "ipython",
    "version": 3
   },
   "file_extension": ".py",
   "mimetype": "text/x-python",
   "name": "python",
   "nbconvert_exporter": "python",
   "pygments_lexer": "ipython3",
   "version": "3.9.7"
  },
  "orig_nbformat": 4
 },
 "nbformat": 4,
 "nbformat_minor": 2
}
